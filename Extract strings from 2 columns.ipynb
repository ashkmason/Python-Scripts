{
 "cells": [
  {
   "cell_type": "markdown",
   "id": "caring-gazette",
   "metadata": {},
   "source": [
    "Create a new csv from a previous one with strings that are contained in two columns. A single row may contain the string in one of the two columns or in both. This will prevent duplicates in the final csv."
   ]
  },
  {
   "cell_type": "code",
   "execution_count": 2,
   "id": "governmental-broadway",
   "metadata": {},
   "outputs": [],
   "source": [
    "import pandas as pd"
   ]
  },
  {
   "cell_type": "code",
   "execution_count": 82,
   "id": "collective-estimate",
   "metadata": {},
   "outputs": [],
   "source": [
    "# strings that are contained in columns we want to keep\n",
    "scoped_strings = [\n",
    "    \"foo\",\n",
    "    \"bar\",\n",
    "    \"foobar\"\n",
    "]"
   ]
  },
  {
   "cell_type": "code",
   "execution_count": 91,
   "id": "serial-cliff",
   "metadata": {},
   "outputs": [],
   "source": [
    "# import csv as dataframe\n",
    "df = pd.read_csv(\"file\")\n",
    "\n",
    "# create new empty dataframe\n",
    "scoped_df = pd.DataFrame()\n",
    "\n",
    "# iterate through list in first column\n",
    "for i in scoped_strings:\n",
    "    scoped_df = scoped_df.append(pd.DataFrame(df[df[\"column1\"].str.contains(i)]), ignore_index=True)\n",
    "\n",
    "# remove the rows that we kept in first iteration to prevent duplicates\n",
    "for i in scoped_strings:\n",
    "    df = df[~df[\"column1\"].str.contains(i)]\n",
    "\n",
    "# iterate through list in second column\n",
    "for i in scoped_strings:\n",
    "    scoped_df = scoped_df.append(pd.DataFrame(df[df[\"column2\"].str.contains(i)]), ignore_index=True)   "
   ]
  },
  {
   "cell_type": "code",
   "execution_count": 92,
   "id": "opposed-boost",
   "metadata": {},
   "outputs": [],
   "source": [
    "# export new df to csv\n",
    "scoped_df.to_csv(r'newFile')"
   ]
  },
  {
   "cell_type": "code",
   "execution_count": null,
   "id": "mighty-parent",
   "metadata": {},
   "outputs": [],
   "source": []
  }
 ],
 "metadata": {
  "kernelspec": {
   "display_name": "Python 3",
   "language": "python",
   "name": "python3"
  },
  "language_info": {
   "codemirror_mode": {
    "name": "ipython",
    "version": 3
   },
   "file_extension": ".py",
   "mimetype": "text/x-python",
   "name": "python",
   "nbconvert_exporter": "python",
   "pygments_lexer": "ipython3",
   "version": "3.7.2"
  }
 },
 "nbformat": 4,
 "nbformat_minor": 5
}
